{
 "cells": [
  {
   "cell_type": "code",
   "execution_count": 32,
   "metadata": {},
   "outputs": [],
   "source": [
    "import cv2 as cvision\n",
    "import pandas as pd\n",
    "import numpy as np\n",
    "import os\n",
    "import torch\n",
    "from torch.utils import data\n",
    "import torchvision\n",
    "import matplotlib.pyplot as plt\n",
    "%matplotlib inline"
   ]
  },
  {
   "cell_type": "code",
   "execution_count": 38,
   "metadata": {},
   "outputs": [],
   "source": [
    "class Data:\n",
    "    def __init__(self,root,csv,batch_size):\n",
    "        self.root=root\n",
    "        self.csv=pd.read_csv(csv)\n",
    "        self.batch_size=batch_size\n",
    "        self.idx=0\n",
    "        \n",
    "        \n",
    "    def get_next_batch(self):\n",
    "        x=[]\n",
    "        y=[]\n",
    "        tempy=self.csv.iloc[self.idx:self.idx+self.batch_size,:].values\n",
    "        for row in tempy:\n",
    "            y.append(row[1:])\n",
    "            tempx=cvision.imread(os.path.join(self.root,row[0]))\n",
    "            x.append(tempx)\n",
    "            \n",
    "        self.idx=(self.idx+self.batch_size)%len(self.csv)\n",
    "        return np.array(x),np.array(y)"
   ]
  },
  {
   "cell_type": "code",
   "execution_count": 39,
   "metadata": {},
   "outputs": [],
   "source": [
    "train_data=Data('train','training.csv',64)\n",
    "test_data=Data('test','test.csv',64)"
   ]
  },
  {
   "cell_type": "code",
   "execution_count": null,
   "metadata": {},
   "outputs": [],
   "source": []
  }
 ],
 "metadata": {
  "kernelspec": {
   "display_name": "Python 3",
   "language": "python",
   "name": "python3"
  },
  "language_info": {
   "codemirror_mode": {
    "name": "ipython",
    "version": 3
   },
   "file_extension": ".py",
   "mimetype": "text/x-python",
   "name": "python",
   "nbconvert_exporter": "python",
   "pygments_lexer": "ipython3",
   "version": "3.6.7"
  }
 },
 "nbformat": 4,
 "nbformat_minor": 2
}
